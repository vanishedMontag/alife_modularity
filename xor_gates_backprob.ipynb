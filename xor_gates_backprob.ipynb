{
 "cells": [
  {
   "cell_type": "code",
   "execution_count": 533,
   "metadata": {},
   "outputs": [],
   "source": [
    "import numpy as np\n",
    "import itertools\n",
    "from math import sqrt\n",
    "import pandas as pd\n",
    "import matplotlib.pyplot as plt"
   ]
  },
  {
   "cell_type": "code",
   "execution_count": 699,
   "metadata": {},
   "outputs": [],
   "source": [
    "l = []\n",
    "for x in itertools.product([1,0],repeat=10):\n",
    "    l.append(np.array(x))"
   ]
  },
  {
   "cell_type": "code",
   "execution_count": 700,
   "metadata": {},
   "outputs": [],
   "source": [
    "def calculate_xor(inputs):\n",
    "    inputs = inputs.T\n",
    "    L2 = []\n",
    "    targets = []\n",
    "    for i in range(0, len(inputs), 2):\n",
    "        L2.append((inputs[i], inputs[i+1]))\n",
    "\n",
    "    for i in range(len(L2)):\n",
    "        targets.append(L2[i][0] ^ L2[i][1])\n",
    "\n",
    "    return np.array(targets).T"
   ]
  },
  {
   "cell_type": "code",
   "execution_count": 539,
   "metadata": {},
   "outputs": [
    {
     "name": "stdout",
     "output_type": "stream",
     "text": [
      "[[1 1 1 0 1 0 1 0]] [[0 1 1 1]]\n"
     ]
    }
   ],
   "source": [
    "x = np.array([1,1,1,0,1,0,1,0]).reshape(1,8)\n",
    "\n",
    "w1 = np.random.rand(8,8) \n",
    "w2 = np.random.rand(8,4) \n",
    "y = calculate_xor(x)\n",
    "\n",
    "print(x,y)"
   ]
  },
  {
   "cell_type": "code",
   "execution_count": 540,
   "metadata": {},
   "outputs": [
    {
     "name": "stdout",
     "output_type": "stream",
     "text": [
      "(1, 8) (8, 8) (8, 4) (1, 4)\n"
     ]
    }
   ],
   "source": [
    "print(x.shape,w1.shape, w2.shape, y.shape)"
   ]
  },
  {
   "cell_type": "code",
   "execution_count": 772,
   "metadata": {},
   "outputs": [],
   "source": [
    "# I used sigmoid activation function for hidden layer and output\n",
    "def sigmoid(z):\n",
    "    z= 1/(1+np.exp(-z))\n",
    "    return z\n",
    "\n",
    "def predict(w1,w2,input):\n",
    "    z1,a1,z2,a2 = forward_prop(w1,w2,input)\n",
    "    a2 = np.squeeze(a2)\n",
    "    return a2.tolist()\n",
    "\n",
    "\n",
    "# Forward propagation\n",
    "def forward_prop(w1,w2,x):\n",
    "    z1 = np.dot(w1,x.T)\n",
    "    a1 = sigmoid(z1)    \n",
    "    z2 = np.dot(w2.T,a1)\n",
    "    a2 = sigmoid(z2)\n",
    "    return z1,a1,z2,a2\n",
    "\n",
    "# Backward propagation\n",
    "def back_prop(m,w1,w2,z1,a1,z2,a2,y):\n",
    "    \n",
    "    dz2 =  a2 - y.T \n",
    "    dw2 = np.dot(dz2,a1.T)/m\n",
    "    dw2 = dw2.T\n",
    "    dz1 = np.dot(w2,dz2) * a1*(1-a1)\n",
    "    dw1 = np.dot(dz1,x)/m   \n",
    "    return dz2,dw2,dz1,dw1"
   ]
  },
  {
   "cell_type": "code",
   "execution_count": 704,
   "metadata": {},
   "outputs": [],
   "source": [
    "# z1,a1,z2,a2 =forward_prop(w1,w2,x) # Done works\n",
    "# dz2,dw2,dz1,dw1 = back_prop(m,w1,w2,z1,a1,z2,a2,y)"
   ]
  },
  {
   "cell_type": "code",
   "execution_count": 785,
   "metadata": {},
   "outputs": [
    {
     "name": "stdout",
     "output_type": "stream",
     "text": [
      "65113\n",
      "[[0 0 1 0 0 1 0 1 1 1]]\n",
      "[0.46823048843636994, 0.9783796368138771, 0.9943001100811297, 0.9859712197725745, 0.6995104512860166]\n",
      "[[0 1 1 1 0]]\n",
      "[0.4746209911873519, 0.9812557238411176, 0.9955150002737295, 0.9877164944063461, 0.7142583514235011]\n",
      "[1 1 1 0 1]\n"
     ]
    },
    {
     "data": {
      "image/png": "[encoded data removed]",
      "text/plain": [
       "<Figure size 640x480 with 1 Axes>"
      ]
     },
     "metadata": {},
     "output_type": "display_data"
    }
   ],
   "source": [
    "import random\n",
    "\n",
    "input_nodes = 10\n",
    "hidden_nodes = 10\n",
    "output_nodes = 5\n",
    "\n",
    "l = []\n",
    "for x in itertools.product([1,0],repeat=input_nodes):\n",
    "    l.append(np.array(x))\n",
    "\n",
    "x = l[random.randint(0,len(l)-1)].reshape(1,input_nodes)\n",
    "\n",
    "w1 = np.random.rand(input_nodes,hidden_nodes) \n",
    "w2 = np.random.rand(hidden_nodes,output_nodes) \n",
    "y = calculate_xor(x)\n",
    "\n",
    "losses = []\n",
    "\n",
    "\n",
    "# x = l[random.randint(0,len(l)-1)].reshape(1,8)\n",
    "# y = calculate_xor(x)\n",
    "\n",
    "last_loss = 1000 \n",
    "iterations = 100000\n",
    "for i in range(iterations):\n",
    "\n",
    "    lr = 0.0001\n",
    "\n",
    "    # print(lr)\n",
    "\n",
    "    m = x.shape[1]\n",
    "    z1,a1,z2,a2 = forward_prop(w1,w2,x)\n",
    "    loss = -(1/m)*np.sum(y*np.log(a2)+(1-y)*np.log(1-a2))\n",
    "    losses.append(loss)\n",
    "\n",
    "    if loss < last_loss:\n",
    "        last_loss = loss\n",
    "    else:\n",
    "        print(i)\n",
    "        break\n",
    "    da2,dw2,dz1,dw1 = back_prop(m,w1,w2,z1,a1,z2,a2,y)\n",
    "    w2 = w2-lr*dw2\n",
    "    w1 = w1-lr*dw1\n",
    "\n",
    "# We plot losses to see how our network is doing\n",
    "plt.plot(losses)\n",
    "plt.xlabel(\"EPOCHS\")\n",
    "plt.ylabel(\"Loss value\")\n",
    "\n",
    "print(x)\n",
    "out = predict(w1,w2,x)\n",
    "print(out)\n",
    "print(calculate_xor(x))\n",
    "\n",
    "out2 = predict(w1,w2,l[401])\n",
    "print(out2)\n",
    "print(calculate_xor(l[401]))"
   ]
  },
  {
   "cell_type": "code",
   "execution_count": 767,
   "metadata": {},
   "outputs": [
    {
     "data": {
      "text/plain": [
       "array([1, 0, 0, 1, 1, 0, 1, 1, 1, 1])"
      ]
     },
     "execution_count": 767,
     "metadata": {},
     "output_type": "execute_result"
    }
   ],
   "source": []
  },
  {
   "cell_type": "code",
   "execution_count": 780,
   "metadata": {},
   "outputs": [],
   "source": [
    "out2 = predict(w1,w2,l[401])"
   ]
  },
  {
   "cell_type": "code",
   "execution_count": 781,
   "metadata": {},
   "outputs": [
    {
     "data": {
      "text/plain": [
       "[0.993300917915899,\n",
       " 0.9873401797517811,\n",
       " 0.5052586956663465,\n",
       " 0.267506302186766,\n",
       " 0.49898070155831287]"
      ]
     },
     "execution_count": 781,
     "metadata": {},
     "output_type": "execute_result"
    }
   ],
   "source": [
    "out2"
   ]
  },
  {
   "cell_type": "code",
   "execution_count": 782,
   "metadata": {},
   "outputs": [
    {
     "name": "stdout",
     "output_type": "stream",
     "text": [
      "[1. 1. 1. 0. 0.]\n"
     ]
    }
   ],
   "source": [
    "print(np.around(out2))"
   ]
  },
  {
   "cell_type": "code",
   "execution_count": null,
   "metadata": {},
   "outputs": [],
   "source": []
  }
 ],
 "metadata": {
  "kernelspec": {
   "display_name": "ai_lab",
   "language": "python",
   "name": "ai_lab"
  },
  "language_info": {
   "codemirror_mode": {
    "name": "ipython",
    "version": 3
   },
   "file_extension": ".py",
   "mimetype": "text/x-python",
   "name": "python",
   "nbconvert_exporter": "python",
   "pygments_lexer": "ipython3",
   "version": "3.10.0"
  },
  "orig_nbformat": 4
 },
 "nbformat": 4,
 "nbformat_minor": 2
}
