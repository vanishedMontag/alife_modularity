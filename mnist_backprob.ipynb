{
  "cells": [
    {
      "cell_type": "markdown",
      "metadata": {
        "id": "e_mMw1jKdhNI"
      },
      "source": [
        "Perform MNIST classification using Neural Netwroks and Convolutional Neural Networks.\n",
        "\n",
        "1) Use 10 iterations for training\n",
        "\n",
        "\n",
        "2) Show the training loss for both networks on the same plot\n",
        "\n",
        "\n",
        "3) Compare the test loss and accuracy."
      ]
    },
    {
      "cell_type": "code",
      "execution_count": 2,
      "metadata": {
        "id": "FgD2m0H5isxW"
      },
      "outputs": [],
      "source": [
        "import torch\n",
        "import torch.nn as nn\n",
        "import torch.nn.functional as F\n",
        "import torch.optim as optim\n",
        "import numpy as np\n",
        "import matplotlib.pyplot as plt\n",
        "from torchvision import models,transforms\n",
        "from torchvision.utils import make_grid\n",
        "from torchvision.datasets import MNIST\n",
        "from torch.utils.data.sampler import SubsetRandomSampler\n",
        "from torch.utils.tensorboard import SummaryWriter\n",
        "from torchsummary import summary\n",
        "from torch.utils.data import DataLoader\n",
        "import torchmetrics as tm"
      ]
    },
    {
      "cell_type": "code",
      "execution_count": 3,
      "metadata": {
        "id": "1VPvHJrXisxX"
      },
      "outputs": [],
      "source": [
        "# MNIST\n",
        "def mnist(batch_sz, valid_size=0.2, shuffle=True, random_seed=2000):\n",
        "    num_classes = 10\n",
        "    transform_train = transforms.Compose([\n",
        "                        transforms.RandomCrop(28, padding=4),\n",
        "                        transforms.ToTensor(),\n",
        "                    ])\n",
        "    \n",
        "    \n",
        "    transform_test = transforms.Compose([\n",
        "                        transforms.ToTensor(),\n",
        "                    ])\n",
        "    \n",
        "\n",
        "    # Training dataset\n",
        "    train_data = MNIST(root='./datasets', train=True, download=True, transform=transform_train)\n",
        "    num_train = len(train_data)\n",
        "    indices = list(range(num_train))\n",
        "    split = int(np.floor(valid_size * num_train))\n",
        "    if shuffle == True:\n",
        "        np.random.seed(random_seed)\n",
        "        np.random.shuffle(indices)\n",
        "\n",
        "    train_loader = torch.utils.data.DataLoader(train_data, batch_size=batch_sz ,pin_memory=True)\n",
        "\n",
        "    # Test dataset\n",
        "    test_data = MNIST(root='./datasets', train=False, download=True, transform=transform_test)\n",
        "    test_loader = torch.utils.data.DataLoader(test_data,\n",
        "                                              batch_size=batch_sz, shuffle=False, pin_memory=True)\n",
        "\n",
        "    return train_loader, test_loader\n",
        "\n"
      ]
    },
    {
      "cell_type": "code",
      "execution_count": 4,
      "metadata": {
        "id": "7fbWYYmxisxX",
        "outputId": "2f213ca2-c1af-491f-cadd-870bdf782583"
      },
      "outputs": [
        {
          "data": {
            "text/plain": [
              "<matplotlib.image.AxesImage at 0x12b1f9b70>"
            ]
          },
          "execution_count": 4,
          "metadata": {},
          "output_type": "execute_result"
        },
        {
          "data": {
            "image/png": "[encoded data removed]",
            "text/plain": [
              "<Figure size 640x480 with 1 Axes>"
            ]
          },
          "metadata": {},
          "output_type": "display_data"
        }
      ],
      "source": [
        "batch_sz=64 # this is batch size i.e. the number of rows in a batch of data\n",
        "\n",
        "train_loader, test_loader=mnist(batch_sz) \n",
        "\n",
        "tl = iter(train_loader)\n",
        "batch = next(tl)\n",
        "\n",
        "\n",
        "plt.imshow(batch[0][6,:,:,:].squeeze())"
      ]
    },
    {
      "cell_type": "code",
      "execution_count": 22,
      "metadata": {
        "id": "FD6fwO1ddbEU"
      },
      "outputs": [],
      "source": [
        "class CNN(nn.Module):\n",
        "    def __init__(self, in_channels=1,num_classes=10) -> None:\n",
        "        super(CNN,self).__init__() # In the other tutorial he is using CNN and self within the super(CNN, self) brakets\n",
        "\n",
        "        self.conv1 = nn.Conv2d(in_channels=1, out_channels=8, kernel_size=(3,3),stride=(1,1),padding=(1,1))  #  3 -1 /2 ; 3 being the filter_size, with padding the image size stays the same\n",
        "        self.maxpool = nn.MaxPool2d(kernel_size= (2,2), stride= (2,2))\n",
        "        self.conv2 = nn.Conv2d(in_channels=8, out_channels=16, kernel_size=(3,3),stride=(1,1),padding=(1,1))\n",
        "        self._in = nn.Linear(16*7*7, 128)\n",
        "        self.lin_out = nn.Linear(128,num_classes) # change 128 to 16*7*7 for AC1\n",
        "\n",
        "\n",
        "    # Forward Pass\n",
        "    \n",
        "    def forward(self, x):\n",
        "        x = torch.relu(self.conv1(x))\n",
        "        x = self.maxpool(x)\n",
        "        x = torch.relu(self.conv2(x))\n",
        "        x = self.maxpool(x)\n",
        "\n",
        "        # Linear Model\n",
        "        x = x.reshape(x.shape[0], -1)\n",
        "        x = torch.relu(self._in(x))\n",
        "        x = self.lin_out(x)\n",
        "            \n",
        "        return x\n",
        "\n",
        "\n",
        "\n"
      ]
    },
    {
      "cell_type": "code",
      "execution_count": 23,
      "metadata": {
        "id": "g1UzEgLpisxZ",
        "outputId": "16ab4958-2c09-4f8d-98a8-46a6e1570ca6"
      },
      "outputs": [
        {
          "name": "stdout",
          "output_type": "stream",
          "text": [
            "cpu\n"
          ]
        }
      ],
      "source": [
        "device = torch.device(\"cuda:0\") if torch.cuda.is_available() else torch.device(\"cpu\")\n",
        "\n",
        "print(device)"
      ]
    },
    {
      "cell_type": "code",
      "execution_count": 25,
      "metadata": {
        "id": "F53mUju8isxZ",
        "outputId": "94bf13a8-3955-498c-cdb4-464da0f6e452"
      },
      "outputs": [
        {
          "name": "stdout",
          "output_type": "stream",
          "text": [
            "torch.Size([64, 10])\n"
          ]
        }
      ],
      "source": [
        "# Model 2 Dim Testing\n",
        "model_2 = CNN().to(device=device)\n",
        "x = torch.randn(64,1,28,28)\n",
        "print(model_2(x).shape)"
      ]
    },
    {
      "cell_type": "code",
      "execution_count": 15,
      "metadata": {
        "id": "VoZLvqS2isxa"
      },
      "outputs": [],
      "source": [
        "# Hyperparameter: \n",
        "\n",
        "inputs = 784\n",
        "mm = 0\n",
        "batch_sz=64\n",
        "epoch_no = 3\n",
        "mini_batches = [64]\n",
        "learning_rates = [0.1,0.01,0.001,0.0001]\n",
        "learning_rates = learning_rates[::-1]"
      ]
    },
    {
      "cell_type": "code",
      "execution_count": 16,
      "metadata": {
        "id": "zQPXbzEqisxa"
      },
      "outputs": [],
      "source": [
        "# Data Option 1:\n",
        "\n",
        "def unbiased_data(batch_sz):\n",
        "    train_dataset = MNIST(root=\"dataset/\", train=True, transform=transforms.ToTensor(), download=True)\n",
        "    test_dataset = MNIST(root=\"dataset/\", train=False, transform=transforms.ToTensor(), download=True)\n",
        "    train_loader = DataLoader(dataset=train_dataset, batch_size=batch_sz, shuffle=True)\n",
        "    test_loader = DataLoader(dataset=test_dataset, batch_size=batch_sz, shuffle=True)\n",
        "\n",
        "    return train_loader, test_loader\n"
      ]
    },
    {
      "cell_type": "code",
      "execution_count": 17,
      "metadata": {
        "id": "DfrI5cHjisxb"
      },
      "outputs": [],
      "source": [
        "# Training and Testing\n",
        "def var_training(data_bias=True,model=CNN(),type_CNN = True):\n",
        "    for mini_batch in mini_batches:\n",
        "        for learning_rate in learning_rates:\n",
        "            model_2 = model.to(device=device)\n",
        "        \n",
        "            # write to tensorboard\n",
        "            step = 0\n",
        "\n",
        "            if data_bias == True and type_CNN == True:\n",
        "                writer = SummaryWriter(f'runs/MNIST/CNN_rand_bs={mini_batch}_lr={learning_rate}')\n",
        "            elif data_bias == False and type_CNN == True:\n",
        "                writer = SummaryWriter(f'runs/MNIST/CNN_bias_bs={mini_batch}_lr={learning_rate}')\n",
        "            elif data_bias == True and type_CNN == False:\n",
        "                writer = SummaryWriter(f'runs/MNIST/NN_wS_rand_bs={mini_batch}_lr={learning_rate}')\n",
        "            else:\n",
        "                writer = SummaryWriter(f'runs/MNIST/NN_wS_bias_bs={mini_batch}_lr={learning_rate}')\n",
        "\n",
        "\n",
        "            # Loss and optimizer\n",
        "            criterion = nn.CrossEntropyLoss()\n",
        "            optimizer = optim.SGD(model_2.parameters(), lr=learning_rate, momentum= mm)\n",
        "            scheduler = optim.lr_scheduler.ExponentialLR(optimizer=optimizer,gamma=0.9,verbose=False)\n",
        "\n",
        "            # generate new data\n",
        "\n",
        "            if data_bias == True:\n",
        "                train_loader, test_loader=mnist(mini_batch)\n",
        "\n",
        "            else:\n",
        "                train_loader, test_loader=unbiased_data(mini_batch)\n",
        "            \n",
        "            for epoch in range(epoch_no):\n",
        "                train_loss = 0\n",
        "                for batch_idx, (data, targets) in enumerate(train_loader):\n",
        "                    data = data.to(device=device)\n",
        "                    targets = targets.to(device=device)\n",
        "\n",
        "                    if type_CNN == False:\n",
        "                        data = data.reshape(data.shape[0], -1)\n",
        "                    else:\n",
        "                        pass\n",
        "\n",
        "                    # forwards\n",
        "                    logits = model_2(data)\n",
        "                    loss = criterion(logits, targets)\n",
        "                    train_loss += loss.item()\n",
        "\n",
        "\n",
        "                    # backward \n",
        "                    optimizer.zero_grad()\n",
        "                    loss.backward()\n",
        "                    optimizer.step()\n",
        "                    # scheduler.step()\n",
        "\n",
        "                    # Running Accuracy\n",
        "                    _, predictions = logits.max(1)\n",
        "                    num_corr = (predictions == targets).sum()\n",
        "                    running_acc = float(num_corr)/float(data.shape[0])\n",
        "                    \n",
        "                    writer.add_scalar(\"Training Loss\", loss, global_step = step) \n",
        "                    writer.add_scalar(\"Training Accuracy\", running_acc, global_step=step)\n",
        "                    step += 1  \n",
        "\n",
        "                scheduler.step()\n",
        "\n",
        "            acc_l = []\n",
        "\n",
        "            accuracy = tm.Accuracy()\n",
        "\n",
        "            with torch.no_grad():\n",
        "                step_2 = 0\n",
        "                for batch_idx, (data, targets) in enumerate(test_loader):\n",
        "                    data = data.to(device=device)\n",
        "                    targets = targets.to(device=device)\n",
        "\n",
        "                    if type_CNN == False:\n",
        "                        data = data.reshape(data.shape[0], -1)\n",
        "                    else:\n",
        "                        pass\n",
        "\n",
        "                    logits = model_2(data)\n",
        "                    t_loss = criterion(logits, targets)\n",
        "                    train_loss += loss.item()\n",
        "\n",
        "                    yhat = torch.argmax(logits, axis =1)\n",
        "\n",
        "                    acc = accuracy(yhat.to(\"cpu\"),targets.to(\"cpu\"))\n",
        "\n",
        "                    acc_l.append(acc)\n",
        "\n",
        "                    writer.add_scalar(\"Testing Loss\", t_loss, global_step = step_2) \n",
        "                    writer.add_scalar(\"Testing Accuracy\", acc, global_step=step_2)\n",
        "                    step_2 += 1\n",
        "\n",
        "            print(f'the accuracy on the test set for the batch size: {mini_batch} and learning rate: {learning_rate} is {np.mean(acc_l):.2f}')\n",
        "\n",
        "\n"
      ]
    },
    {
      "cell_type": "code",
      "execution_count": 18,
      "metadata": {
        "id": "7GlV7rOUisxb",
        "outputId": "1173ae50-4a23-4ce5-f8ad-ae03d8e45896"
      },
      "outputs": [
        {
          "name": "stdout",
          "output_type": "stream",
          "text": [
            "the accuracy on the test set for the batch size: 64 and learning rate: 0.1 is 0.97\n",
            "the accuracy on the test set for the batch size: 64 and learning rate: 0.01 is 0.98\n"
          ]
        }
      ],
      "source": [
        "var_training(data_bias=True,model=CNN(),type_CNN=True)"
      ]
    }
  ],
  "metadata": {
    "colab": {
      "collapsed_sections": [],
      "name": "HW3_1_LT_Submission.ipynb",
      "provenance": []
    },
    "kernelspec": {
      "display_name": "ai_lab",
      "language": "python",
      "name": "ai_lab"
    },
    "language_info": {
      "codemirror_mode": {
        "name": "ipython",
        "version": 3
      },
      "file_extension": ".py",
      "mimetype": "text/x-python",
      "name": "python",
      "nbconvert_exporter": "python",
      "pygments_lexer": "ipython3",
      "version": "3.10.0"
    },
    "vscode": {
      "interpreter": {
        "hash": "d410fd81c9a0b51d0e53167c40a880776428168a003798fed6e3e9082ee009aa"
      }
    }
  },
  "nbformat": 4,
  "nbformat_minor": 0
}
