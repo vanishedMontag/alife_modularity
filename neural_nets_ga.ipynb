{
 "cells": [
  {
   "cell_type": "code",
   "execution_count": 10,
   "metadata": {},
   "outputs": [],
   "source": [
    "import pygad\n",
    "import numpy as np\n",
    "import matplotlib.pyplot as plt\n",
    "import torch\n",
    "import pygad\n",
    "import pygad.nn\n",
    "import pygad.gann\n",
    "import itertools"
   ]
  },
  {
   "cell_type": "code",
   "execution_count": 40,
   "metadata": {},
   "outputs": [],
   "source": [
    "def calculate_xor(inputs):\n",
    "    inputs = inputs.T\n",
    "    L2 = []\n",
    "    targets = []\n",
    "    for i in range(0, len(inputs), 2):\n",
    "        L2.append((inputs[i], inputs[i+1]))\n",
    "\n",
    "    for i in range(len(L2)):\n",
    "        targets.append(L2[i][0] ^ L2[i][1])\n",
    "\n",
    "    return np.array(targets).T"
   ]
  },
  {
   "cell_type": "code",
   "execution_count": null,
   "metadata": {},
   "outputs": [],
   "source": [
    "def fitness_func(solution, sol_idx):\n",
    "    global GANN_instance, data_inputs, data_outputs\n",
    "\n",
    "    predictions = pygad.nn.predict(last_layer=GANN_instance.population_networks[sol_idx],\n",
    "                                   data_inputs=data_inputs)\n",
    "    correct_predictions = np.where(predictions == data_outputs)[0].size\n",
    "\n",
    "    print(predictions, correct_predictions)\n",
    "\n",
    "\n",
    "    solution_fitness = (correct_predictions/data_outputs.size)*100\n",
    "    return solution_fitness\n",
    "\n",
    "def callback_generation(ga_instance):\n",
    "    global GANN_instance\n",
    "\n",
    "    population_matrices = pygad.gann.population_as_matrices(population_networks=GANN_instance.population_networks, \n",
    "                                                            population_vectors=ga_instance.population)\n",
    "    GANN_instance.update_population_trained_weights(population_trained_weights=population_matrices)\n",
    "\n",
    "    print(\"Generation = {generation}\".format(generation=ga_instance.generations_completed))\n",
    "    print(\"Accuracy   = {fitness}\".format(fitness=ga_instance.best_solution()[1]))\n",
    "data_inputs = np.array([[1, 1],\n",
    "                        [1, 0],\n",
    "                        [0, 1],\n",
    "                        [0, 0]])\n",
    "\n",
    "data_outputs = np.array([0, \n",
    "                        1, \n",
    "                        1, \n",
    "                        0])\n",
    "\n",
    "GANN_instance = pygad.gann.GANN(num_solutions=5,\n",
    "                                num_neurons_input=2,\n",
    "                                num_neurons_hidden_layers=[2],\n",
    "                                num_neurons_output=2,\n",
    "                                hidden_activations=[\"relu\"],\n",
    "                                output_activation=\"softmax\")\n",
    "\n",
    "population_vectors = pygad.gann.population_as_vectors(population_networks=GANN_instance.population_networks)\n",
    "ga_instance = pygad.GA(num_generations=50, \n",
    "                       num_parents_mating=3, \n",
    "                       initial_population=population_vectors.copy(),\n",
    "                       fitness_func=fitness_func,\n",
    "                       mutation_percent_genes=5,\n",
    "                       callback_generation=callback_generation)\n",
    "\n",
    "# ga_instance.run()\n",
    "# ga_instance.plot_result()\n",
    "\n",
    "# solution, solution_fitness, solution_idx = ga_instance.best_solution()\n",
    "# print(solution)\n",
    "# print(solution_fitness)\n",
    "# print(solution_idx)"
   ]
  },
  {
   "cell_type": "code",
   "execution_count": 109,
   "metadata": {},
   "outputs": [
    {
     "name": "stdout",
     "output_type": "stream",
     "text": [
      "(4, 2) (4,)\n"
     ]
    }
   ],
   "source": [
    "print(data_inputs.shape, data_outputs.shape)"
   ]
  },
  {
   "cell_type": "code",
   "execution_count": 110,
   "metadata": {},
   "outputs": [],
   "source": [
    "four_xor_gates = []\n",
    "for x in itertools.product([1,0],repeat=4):\n",
    "    four_xor_gates.append(np.array(x))\n",
    "\n",
    "four_xor_gates = np.array(four_xor_gates)"
   ]
  },
  {
   "cell_type": "code",
   "execution_count": 118,
   "metadata": {},
   "outputs": [
    {
     "name": "stdout",
     "output_type": "stream",
     "text": [
      "[1 1 1 0]\n"
     ]
    }
   ],
   "source": [
    "print(four_xor_gates[1])"
   ]
  },
  {
   "cell_type": "code",
   "execution_count": 119,
   "metadata": {},
   "outputs": [
    {
     "name": "stdout",
     "output_type": "stream",
     "text": [
      "[0 1]\n"
     ]
    }
   ],
   "source": [
    "solutions = calculate_xor(four_xor_gates)\n",
    "print(solutions[1])"
   ]
  },
  {
   "cell_type": "code",
   "execution_count": 101,
   "metadata": {},
   "outputs": [
    {
     "name": "stdout",
     "output_type": "stream",
     "text": [
      "[[0 0 0 0 1 1 1 1 1 1 1 1 0 0 0 0]\n",
      " [0 1 1 0 0 1 1 0 0 1 1 0 0 1 1 0]]\n"
     ]
    }
   ],
   "source": [
    "print(solutions)"
   ]
  },
  {
   "cell_type": "code",
   "execution_count": 104,
   "metadata": {},
   "outputs": [
    {
     "name": "stderr",
     "output_type": "stream",
     "text": [
      "/Users/luca/.pyenv/versions/AI_Lab/lib/python3.10/site-packages/pygad/pygad.py:764: UserWarning: Starting from PyGAD 2.6.0, the callback_generation parameter is deprecated and will be removed in a later release of PyGAD. Please use the on_generation parameter instead.\n",
      "  if not self.suppress_warnings: warnings.warn(\"Starting from PyGAD 2.6.0, the callback_generation parameter is deprecated and will be removed in a later release of PyGAD. Please use the on_generation parameter instead.\")\n"
     ]
    },
    {
     "ename": "ValueError",
     "evalue": "matmul: Input operand 1 has a mismatch in its core dimension 0, with gufunc signature (n?,k),(k,m?)->(n?,m?) (size 4 is different from 16)",
     "output_type": "error",
     "traceback": [
      "\u001b[0;31m---------------------------------------------------------------------------\u001b[0m",
      "\u001b[0;31mValueError\u001b[0m                                Traceback (most recent call last)",
      "Cell \u001b[0;32mIn [104], line 50\u001b[0m\n\u001b[1;32m     41\u001b[0m population_vectors \u001b[39m=\u001b[39m pygad\u001b[39m.\u001b[39mgann\u001b[39m.\u001b[39mpopulation_as_vectors(population_networks\u001b[39m=\u001b[39mGANN_instance\u001b[39m.\u001b[39mpopulation_networks)\n\u001b[1;32m     42\u001b[0m ga_instance \u001b[39m=\u001b[39m pygad\u001b[39m.\u001b[39mGA(num_generations\u001b[39m=\u001b[39m\u001b[39m5\u001b[39m, \n\u001b[1;32m     43\u001b[0m                        num_parents_mating\u001b[39m=\u001b[39m\u001b[39m3\u001b[39m, \n\u001b[1;32m     44\u001b[0m                        initial_population\u001b[39m=\u001b[39mpopulation_vectors\u001b[39m.\u001b[39mcopy(),\n\u001b[1;32m     45\u001b[0m                        fitness_func\u001b[39m=\u001b[39mfitness_func,\n\u001b[1;32m     46\u001b[0m                        mutation_percent_genes\u001b[39m=\u001b[39m\u001b[39m5\u001b[39m,\n\u001b[1;32m     47\u001b[0m                        callback_generation\u001b[39m=\u001b[39mcallback_generation)\n\u001b[0;32m---> 50\u001b[0m ga_instance\u001b[39m.\u001b[39;49mrun()\n\u001b[1;32m     51\u001b[0m ga_instance\u001b[39m.\u001b[39mplot_result()\n",
      "File \u001b[0;32m~/.pyenv/versions/AI_Lab/lib/python3.10/site-packages/pygad/pygad.py:1315\u001b[0m, in \u001b[0;36mGA.run\u001b[0;34m(self)\u001b[0m\n\u001b[1;32m   1312\u001b[0m stop_run \u001b[39m=\u001b[39m \u001b[39mFalse\u001b[39;00m\n\u001b[1;32m   1314\u001b[0m \u001b[39m# Measuring the fitness of each chromosome in the population. Save the fitness in the last_generation_fitness attribute.\u001b[39;00m\n\u001b[0;32m-> 1315\u001b[0m \u001b[39mself\u001b[39m\u001b[39m.\u001b[39mlast_generation_fitness \u001b[39m=\u001b[39m \u001b[39mself\u001b[39;49m\u001b[39m.\u001b[39;49mcal_pop_fitness()\n\u001b[1;32m   1317\u001b[0m best_solution, best_solution_fitness, best_match_idx \u001b[39m=\u001b[39m \u001b[39mself\u001b[39m\u001b[39m.\u001b[39mbest_solution(pop_fitness\u001b[39m=\u001b[39m\u001b[39mself\u001b[39m\u001b[39m.\u001b[39mlast_generation_fitness)\n\u001b[1;32m   1319\u001b[0m \u001b[39m# Appending the best solution in the initial population to the best_solutions list.\u001b[39;00m\n",
      "File \u001b[0;32m~/.pyenv/versions/AI_Lab/lib/python3.10/site-packages/pygad/pygad.py:1235\u001b[0m, in \u001b[0;36mGA.cal_pop_fitness\u001b[0;34m(self)\u001b[0m\n\u001b[1;32m   1233\u001b[0m     fitness \u001b[39m=\u001b[39m \u001b[39mself\u001b[39m\u001b[39m.\u001b[39mprevious_generation_fitness[parent_idx]\n\u001b[1;32m   1234\u001b[0m \u001b[39melse\u001b[39;00m:\n\u001b[0;32m-> 1235\u001b[0m     fitness \u001b[39m=\u001b[39m \u001b[39mself\u001b[39;49m\u001b[39m.\u001b[39;49mfitness_func(sol, sol_idx)\n\u001b[1;32m   1236\u001b[0m     \u001b[39mif\u001b[39;00m \u001b[39mtype\u001b[39m(fitness) \u001b[39min\u001b[39;00m GA\u001b[39m.\u001b[39msupported_int_float_types:\n\u001b[1;32m   1237\u001b[0m         \u001b[39mpass\u001b[39;00m\n",
      "Cell \u001b[0;32mIn [104], line 4\u001b[0m, in \u001b[0;36mfitness_func\u001b[0;34m(solution, sol_idx)\u001b[0m\n\u001b[1;32m      1\u001b[0m \u001b[39mdef\u001b[39;00m \u001b[39mfitness_func\u001b[39m(solution, sol_idx):\n\u001b[1;32m      2\u001b[0m     \u001b[39mglobal\u001b[39;00m GANN_instance, data_inputs, data_outputs\n\u001b[0;32m----> 4\u001b[0m     predictions \u001b[39m=\u001b[39m pygad\u001b[39m.\u001b[39;49mnn\u001b[39m.\u001b[39;49mpredict(last_layer\u001b[39m=\u001b[39;49mGANN_instance\u001b[39m.\u001b[39;49mpopulation_networks[sol_idx],\n\u001b[1;32m      5\u001b[0m                                    data_inputs\u001b[39m=\u001b[39;49mdata_inputs)\n\u001b[1;32m      6\u001b[0m     correct_predictions \u001b[39m=\u001b[39m np\u001b[39m.\u001b[39mwhere(predictions \u001b[39m==\u001b[39m data_outputs)[\u001b[39m0\u001b[39m]\u001b[39m.\u001b[39msize\n\u001b[1;32m      8\u001b[0m     \u001b[39mprint\u001b[39m(predictions, correct_predictions)\n",
      "File \u001b[0;32m~/.pyenv/versions/AI_Lab/lib/python3.10/site-packages/pygad/nn/nn.py:310\u001b[0m, in \u001b[0;36mpredict\u001b[0;34m(last_layer, data_inputs, problem_type)\u001b[0m\n\u001b[1;32m    308\u001b[0m r1 \u001b[39m=\u001b[39m data_inputs[sample_idx, :]\n\u001b[1;32m    309\u001b[0m \u001b[39mfor\u001b[39;00m curr_weights, activation \u001b[39min\u001b[39;00m \u001b[39mzip\u001b[39m(weights, activations):\n\u001b[0;32m--> 310\u001b[0m     r1 \u001b[39m=\u001b[39m numpy\u001b[39m.\u001b[39;49mmatmul(r1, curr_weights)\n\u001b[1;32m    311\u001b[0m     \u001b[39mif\u001b[39;00m activation \u001b[39m==\u001b[39m \u001b[39m\"\u001b[39m\u001b[39mrelu\u001b[39m\u001b[39m\"\u001b[39m:\n\u001b[1;32m    312\u001b[0m         r1 \u001b[39m=\u001b[39m relu(r1)\n",
      "\u001b[0;31mValueError\u001b[0m: matmul: Input operand 1 has a mismatch in its core dimension 0, with gufunc signature (n?,k),(k,m?)->(n?,m?) (size 4 is different from 16)"
     ]
    }
   ],
   "source": [
    "def fitness_func(solution, sol_idx):\n",
    "    global GANN_instance, data_inputs, data_outputs\n",
    "\n",
    "    predictions = pygad.nn.predict(last_layer=GANN_instance.population_networks[sol_idx],\n",
    "                                   data_inputs=data_inputs)\n",
    "    correct_predictions = np.where(predictions == data_outputs)[0].size\n",
    "\n",
    "    print(predictions, correct_predictions)\n",
    "    \n",
    "    solution_fitness = (correct_predictions/data_outputs.size)*100\n",
    "    return solution_fitness\n",
    "\n",
    "\n",
    "\n",
    "\n",
    "\n",
    "\n",
    "\n",
    "    \n",
    "\n",
    "def callback_generation(ga_instance):\n",
    "    global GANN_instance\n",
    "\n",
    "    population_matrices = pygad.gann.population_as_matrices(population_networks=GANN_instance.population_networks, \n",
    "                                                            population_vectors=ga_instance.population)\n",
    "    GANN_instance.update_population_trained_weights(population_trained_weights=population_matrices)\n",
    "\n",
    "    print(\"Generation = {generation}\".format(generation=ga_instance.generations_completed))\n",
    "    print(\"Accuracy   = {fitness}\".format(fitness=ga_instance.best_solution()[1]))\n",
    "data_inputs = four_xor_gates\n",
    "\n",
    "data_outputs = solutions\n",
    "\n",
    "GANN_instance = pygad.gann.GANN(num_solutions=100,\n",
    "                                num_neurons_input=4,\n",
    "                                num_neurons_hidden_layers=[4],\n",
    "                                num_neurons_output=2,\n",
    "                                hidden_activations=[\"relu\"],\n",
    "                                output_activation=\"softmax\")\n",
    "\n",
    "population_vectors = pygad.gann.population_as_vectors(population_networks=GANN_instance.population_networks)\n",
    "ga_instance = pygad.GA(num_generations=5, \n",
    "                       num_parents_mating=3, \n",
    "                       initial_population=population_vectors.copy(),\n",
    "                       fitness_func=fitness_func,\n",
    "                       mutation_percent_genes=5,\n",
    "                       callback_generation=callback_generation)\n",
    "\n",
    "\n",
    "ga_instance.run()\n",
    "ga_instance.plot_result()"
   ]
  },
  {
   "cell_type": "code",
   "execution_count": 63,
   "metadata": {},
   "outputs": [],
   "source": [
    "predictions = pygad.nn.predict(last_layer=GANN_instance.population_networks[3],\n",
    "                                   data_inputs=data_inputs)"
   ]
  },
  {
   "cell_type": "code",
   "execution_count": 64,
   "metadata": {},
   "outputs": [
    {
     "data": {
      "text/plain": [
       "[0, 0, 1, 1, 0, 0, 1, 1, 0, 0, 1, 0, 0, 0, 0, 0]"
      ]
     },
     "execution_count": 64,
     "metadata": {},
     "output_type": "execute_result"
    }
   ],
   "source": [
    "predictions"
   ]
  },
  {
   "cell_type": "code",
   "execution_count": 65,
   "metadata": {},
   "outputs": [
    {
     "name": "stderr",
     "output_type": "stream",
     "text": [
      "/var/folders/r9/9kmctj5907z_qfw6hp7s7bb40000gn/T/ipykernel_90427/2534927365.py:1: DeprecationWarning: elementwise comparison failed; this will raise an error in the future.\n",
      "  correct_predictions = np.where(predictions == data_outputs)[0].size\n"
     ]
    }
   ],
   "source": [
    "correct_predictions = np.where(predictions == data_outputs)[0].size"
   ]
  },
  {
   "cell_type": "code",
   "execution_count": 66,
   "metadata": {},
   "outputs": [
    {
     "data": {
      "text/plain": [
       "0"
      ]
     },
     "execution_count": 66,
     "metadata": {},
     "output_type": "execute_result"
    }
   ],
   "source": [
    "correct_predictions"
   ]
  },
  {
   "cell_type": "code",
   "execution_count": 68,
   "metadata": {},
   "outputs": [
    {
     "data": {
      "text/plain": [
       "array([0, 0])"
      ]
     },
     "execution_count": 68,
     "metadata": {},
     "output_type": "execute_result"
    }
   ],
   "source": []
  },
  {
   "cell_type": "code",
   "execution_count": 69,
   "metadata": {},
   "outputs": [
    {
     "name": "stderr",
     "output_type": "stream",
     "text": [
      "/var/folders/r9/9kmctj5907z_qfw6hp7s7bb40000gn/T/ipykernel_90427/4252064015.py:1: DeprecationWarning: elementwise comparison failed; this will raise an error in the future.\n",
      "  predictions == data_outputs\n"
     ]
    },
    {
     "data": {
      "text/plain": [
       "False"
      ]
     },
     "execution_count": 69,
     "metadata": {},
     "output_type": "execute_result"
    }
   ],
   "source": [
    "predictions == data_outputs"
   ]
  },
  {
   "cell_type": "code",
   "execution_count": null,
   "metadata": {},
   "outputs": [],
   "source": []
  }
 ],
 "metadata": {
  "kernelspec": {
   "display_name": "ai_lab",
   "language": "python",
   "name": "ai_lab"
  },
  "language_info": {
   "codemirror_mode": {
    "name": "ipython",
    "version": 3
   },
   "file_extension": ".py",
   "mimetype": "text/x-python",
   "name": "python",
   "nbconvert_exporter": "python",
   "pygments_lexer": "ipython3",
   "version": "3.10.0"
  },
  "orig_nbformat": 4
 },
 "nbformat": 4,
 "nbformat_minor": 2
}
